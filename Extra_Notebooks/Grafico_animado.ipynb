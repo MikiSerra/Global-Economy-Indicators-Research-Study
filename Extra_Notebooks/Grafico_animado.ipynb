{
 "cells": [
  {
   "cell_type": "markdown",
   "metadata": {},
   "source": [
    "# Cómo generar un gráfico animado"
   ]
  },
  {
   "cell_type": "markdown",
   "metadata": {},
   "source": [
    "Este código puede llegar a tardar 3-6 minutos, por lo que ten paciencia. Se puede reducir este tiempo si se reducen los pasos por periodo o la longitud de cada periodo. Librería de ffmepg obtenida del siguiente [GitHub](https://github.com/BtbN/FFmpeg-Builds/releases)"
   ]
  },
  {
   "cell_type": "code",
   "execution_count": null,
   "metadata": {},
   "outputs": [],
   "source": [
    "# Instalamos las librerías necesarias para el proyecto que encontraremos en el archivo requirements.txt\n",
    "%pip install -q -r requirements.txt\n",
    "\n",
    "# Para trabajar con datos\n",
    "import pandas as pd\n",
    "\n",
    "# Para visualización\n",
    "import bar_chart_race as bcr\n",
    "import matplotlib\n",
    "\n",
    "matplotlib.rcParams['animation.ffmpeg_path'] = r'\\ffmpeg-master-latest-win64-gpl\\bin\\ffmpeg.exe'  # Use the correct path to ffmpeg executable\n",
    "df = pd.read_csv(\"C:\\Users\\Usuario\\Documents\\GitHub\\Final-Project\\Data\\Clean_GEI.csv\")\n",
    "animacion = df.copy()\n",
    "columns_names = ['Spain','Argentina','Australia','Brazil','Canada',\n",
    "                'China','France','Italy','Japan',\n",
    "                'Republic of Korea','Mexico','Russian Federation',\n",
    "                'Saudi Arabia','South Africa','Chile',\n",
    "                'India','Singapore','Denmark','Sweden',\n",
    "                'Philippines','United Kingdom','United States']\n",
    "animacion[\"Year\"] = animacion[\"Year\"].astype(str)\n",
    "animacion = animacion.set_index(\"Year\")\n",
    "animacion = animacion.pivot_table(\"GDP_pc\", [\"Year\"], \"Country\")\n",
    "animacion = animacion.rename_axis(None, axis=1)\n",
    "animacion = animacion[columns_names]\n",
    "animacion\n",
    "\n",
    "html = bcr.bar_chart_race(\n",
    "    df=animacion,                                      # DataFrame con los datos\n",
    "    filename=\"Top 15 países PIBpc.mp4\",         # Nombre del archivo de salida\n",
    "    orientation='h',                            # Orientación de las barras\n",
    "    sort='desc',                                # Orden de las barras\n",
    "    n_bars=15,                                  # Número de barras a mostrar\n",
    "    steps_per_period=60,                        # Pasos por periodo (como FPS)\n",
    "    label_bars=True,                            # Etiquetar las barras\n",
    "    period_length=2200,                         # Duración de cada periodo en milisegundos\n",
    "    period_label = {'x': .89, 'y': .05},        # Posición de la etiqueta del periodo\n",
    "    period_summary_func=lambda v,r:{'x': .89, 'y': .03, 's': f'Made by Upgraders', 'ha': 'right', 'size': 8},  # Función para la etiqueta del periodo\n",
    "    figsize=(10, 6),        # Tamaño de la figura\n",
    "    cmap='Accent',          # Mapa de colores\n",
    "    title='Top 15 países con mayor PIB per capita del mundo, 1970-2021',       # Título\n",
    "    bar_label_size=7,       # Tamaño de la etiqueta de las barras\n",
    "    tick_label_size=7,      # Tamaño de la etiqueta de los ticks\n",
    "    fig=None)       \n",
    "html"
   ]
  }
 ],
 "metadata": {
  "language_info": {
   "name": "python"
  }
 },
 "nbformat": 4,
 "nbformat_minor": 2
}
