{
 "cells": [
  {
   "cell_type": "markdown",
   "metadata": {},
   "source": [
    "Importación de Dataset 'Unemployment' para combinarlo con nuestro dataset original de Global Economy Indicators\n",
    "============================"
   ]
  },
  {
   "cell_type": "markdown",
   "metadata": {},
   "source": [
    "# 1. Carga de datos"
   ]
  },
  {
   "cell_type": "markdown",
   "metadata": {},
   "source": [
    "## Importamos Librerías"
   ]
  },
  {
   "cell_type": "code",
   "execution_count": 1,
   "metadata": {},
   "outputs": [
    {
     "name": "stderr",
     "output_type": "stream",
     "text": [
      "ERROR: Could not open requirements file: [Errno 2] No such file or directory: 'requirements.txt'\n"
     ]
    },
    {
     "name": "stdout",
     "output_type": "stream",
     "text": [
      "Note: you may need to restart the kernel to use updated packages.\n"
     ]
    }
   ],
   "source": [
    "# Instalamos las librerías necesarias para el proyecto que encontraremos en el archivo requirements.txt\n",
    "%pip install -q -r requirements.txt\n",
    "import pandas as pd"
   ]
  },
  {
   "cell_type": "markdown",
   "metadata": {},
   "source": [
    "Importamos un dataset del [World Bank:](https://liveprod.worldbank.org/en/indicator/sl-uem-zs#data-table-section) para encontrar la tasa de desempleo y poderla añadir a nuetro dataset original de Global Economy Indicators. Hemos descomprimido el archivo .zip que se descarga al darle al botón \"csv\" y hemos guardado el archivo Unemployment.csv en este notebook"
   ]
  },
  {
   "cell_type": "markdown",
   "metadata": {},
   "source": [
    "## Leemos los datos"
   ]
  },
  {
   "cell_type": "code",
   "execution_count": 11,
   "metadata": {},
   "outputs": [],
   "source": [
    "df1 = pd.read_csv(r'C:\\Users\\Usuario\\Documents\\GitHub\\Final-Project\\Data\\Unemployment.csv')"
   ]
  },
  {
   "cell_type": "code",
   "execution_count": 12,
   "metadata": {},
   "outputs": [
    {
     "data": {
      "text/html": [
       "<div>\n",
       "<style scoped>\n",
       "    .dataframe tbody tr th:only-of-type {\n",
       "        vertical-align: middle;\n",
       "    }\n",
       "\n",
       "    .dataframe tbody tr th {\n",
       "        vertical-align: top;\n",
       "    }\n",
       "\n",
       "    .dataframe thead th {\n",
       "        text-align: right;\n",
       "    }\n",
       "</style>\n",
       "<table border=\"1\" class=\"dataframe\">\n",
       "  <thead>\n",
       "    <tr style=\"text-align: right;\">\n",
       "      <th></th>\n",
       "      <th>Indicator Name</th>\n",
       "      <th>Indicator Code</th>\n",
       "      <th>Country Name</th>\n",
       "      <th>Country Code</th>\n",
       "      <th>Year</th>\n",
       "      <th>Value</th>\n",
       "      <th>Disaggregation</th>\n",
       "    </tr>\n",
       "  </thead>\n",
       "  <tbody>\n",
       "    <tr>\n",
       "      <th>0</th>\n",
       "      <td>Unemployment, female (% of female labor force)...</td>\n",
       "      <td>SL.UEM.TOTL.FE.ZS</td>\n",
       "      <td>Africa Eastern and Southern</td>\n",
       "      <td>AFE</td>\n",
       "      <td>2023</td>\n",
       "      <td>8.557</td>\n",
       "      <td>female, Modeled, 15+</td>\n",
       "    </tr>\n",
       "    <tr>\n",
       "      <th>1</th>\n",
       "      <td>Unemployment, female (% of female labor force)...</td>\n",
       "      <td>SL.UEM.TOTL.FE.ZS</td>\n",
       "      <td>Africa Eastern and Southern</td>\n",
       "      <td>AFE</td>\n",
       "      <td>2022</td>\n",
       "      <td>8.577</td>\n",
       "      <td>female, Modeled, 15+</td>\n",
       "    </tr>\n",
       "    <tr>\n",
       "      <th>2</th>\n",
       "      <td>Unemployment, female (% of female labor force)...</td>\n",
       "      <td>SL.UEM.TOTL.FE.ZS</td>\n",
       "      <td>Africa Eastern and Southern</td>\n",
       "      <td>AFE</td>\n",
       "      <td>2021</td>\n",
       "      <td>9.082</td>\n",
       "      <td>female, Modeled, 15+</td>\n",
       "    </tr>\n",
       "    <tr>\n",
       "      <th>3</th>\n",
       "      <td>Unemployment, female (% of female labor force)...</td>\n",
       "      <td>SL.UEM.TOTL.FE.ZS</td>\n",
       "      <td>Africa Eastern and Southern</td>\n",
       "      <td>AFE</td>\n",
       "      <td>2020</td>\n",
       "      <td>8.552</td>\n",
       "      <td>female, Modeled, 15+</td>\n",
       "    </tr>\n",
       "    <tr>\n",
       "      <th>4</th>\n",
       "      <td>Unemployment, female (% of female labor force)...</td>\n",
       "      <td>SL.UEM.TOTL.FE.ZS</td>\n",
       "      <td>Africa Eastern and Southern</td>\n",
       "      <td>AFE</td>\n",
       "      <td>2019</td>\n",
       "      <td>8.005</td>\n",
       "      <td>female, Modeled, 15+</td>\n",
       "    </tr>\n",
       "    <tr>\n",
       "      <th>...</th>\n",
       "      <td>...</td>\n",
       "      <td>...</td>\n",
       "      <td>...</td>\n",
       "      <td>...</td>\n",
       "      <td>...</td>\n",
       "      <td>...</td>\n",
       "      <td>...</td>\n",
       "    </tr>\n",
       "    <tr>\n",
       "      <th>72889</th>\n",
       "      <td>Unemployment, youth total (% of total labor fo...</td>\n",
       "      <td>SL.UEM.1524.NE.ZS</td>\n",
       "      <td>Zimbabwe</td>\n",
       "      <td>ZWE</td>\n",
       "      <td>2014</td>\n",
       "      <td>6.831</td>\n",
       "      <td>total, National, 15-24</td>\n",
       "    </tr>\n",
       "    <tr>\n",
       "      <th>72890</th>\n",
       "      <td>Unemployment, youth total (% of total labor fo...</td>\n",
       "      <td>SL.UEM.1524.NE.ZS</td>\n",
       "      <td>Zimbabwe</td>\n",
       "      <td>ZWE</td>\n",
       "      <td>2011</td>\n",
       "      <td>8.733</td>\n",
       "      <td>total, National, 15-24</td>\n",
       "    </tr>\n",
       "    <tr>\n",
       "      <th>72891</th>\n",
       "      <td>Unemployment, youth total (% of total labor fo...</td>\n",
       "      <td>SL.UEM.1524.NE.ZS</td>\n",
       "      <td>Zimbabwe</td>\n",
       "      <td>ZWE</td>\n",
       "      <td>2004</td>\n",
       "      <td>7.610</td>\n",
       "      <td>total, National, 15-24</td>\n",
       "    </tr>\n",
       "    <tr>\n",
       "      <th>72892</th>\n",
       "      <td>Unemployment, youth total (% of total labor fo...</td>\n",
       "      <td>SL.UEM.1524.NE.ZS</td>\n",
       "      <td>Zimbabwe</td>\n",
       "      <td>ZWE</td>\n",
       "      <td>1999</td>\n",
       "      <td>14.030</td>\n",
       "      <td>total, National, 15-24</td>\n",
       "    </tr>\n",
       "    <tr>\n",
       "      <th>72893</th>\n",
       "      <td>Unemployment, youth total (% of total labor fo...</td>\n",
       "      <td>SL.UEM.1524.NE.ZS</td>\n",
       "      <td>Zimbabwe</td>\n",
       "      <td>ZWE</td>\n",
       "      <td>1997</td>\n",
       "      <td>16.530</td>\n",
       "      <td>total, National, 15-24</td>\n",
       "    </tr>\n",
       "  </tbody>\n",
       "</table>\n",
       "<p>72894 rows × 7 columns</p>\n",
       "</div>"
      ],
      "text/plain": [
       "                                          Indicator Name     Indicator Code  \\\n",
       "0      Unemployment, female (% of female labor force)...  SL.UEM.TOTL.FE.ZS   \n",
       "1      Unemployment, female (% of female labor force)...  SL.UEM.TOTL.FE.ZS   \n",
       "2      Unemployment, female (% of female labor force)...  SL.UEM.TOTL.FE.ZS   \n",
       "3      Unemployment, female (% of female labor force)...  SL.UEM.TOTL.FE.ZS   \n",
       "4      Unemployment, female (% of female labor force)...  SL.UEM.TOTL.FE.ZS   \n",
       "...                                                  ...                ...   \n",
       "72889  Unemployment, youth total (% of total labor fo...  SL.UEM.1524.NE.ZS   \n",
       "72890  Unemployment, youth total (% of total labor fo...  SL.UEM.1524.NE.ZS   \n",
       "72891  Unemployment, youth total (% of total labor fo...  SL.UEM.1524.NE.ZS   \n",
       "72892  Unemployment, youth total (% of total labor fo...  SL.UEM.1524.NE.ZS   \n",
       "72893  Unemployment, youth total (% of total labor fo...  SL.UEM.1524.NE.ZS   \n",
       "\n",
       "                      Country Name Country Code  Year   Value  \\\n",
       "0      Africa Eastern and Southern          AFE  2023   8.557   \n",
       "1      Africa Eastern and Southern          AFE  2022   8.577   \n",
       "2      Africa Eastern and Southern          AFE  2021   9.082   \n",
       "3      Africa Eastern and Southern          AFE  2020   8.552   \n",
       "4      Africa Eastern and Southern          AFE  2019   8.005   \n",
       "...                            ...          ...   ...     ...   \n",
       "72889                     Zimbabwe          ZWE  2014   6.831   \n",
       "72890                     Zimbabwe          ZWE  2011   8.733   \n",
       "72891                     Zimbabwe          ZWE  2004   7.610   \n",
       "72892                     Zimbabwe          ZWE  1999  14.030   \n",
       "72893                     Zimbabwe          ZWE  1997  16.530   \n",
       "\n",
       "               Disaggregation  \n",
       "0        female, Modeled, 15+  \n",
       "1        female, Modeled, 15+  \n",
       "2        female, Modeled, 15+  \n",
       "3        female, Modeled, 15+  \n",
       "4        female, Modeled, 15+  \n",
       "...                       ...  \n",
       "72889  total, National, 15-24  \n",
       "72890  total, National, 15-24  \n",
       "72891  total, National, 15-24  \n",
       "72892  total, National, 15-24  \n",
       "72893  total, National, 15-24  \n",
       "\n",
       "[72894 rows x 7 columns]"
      ]
     },
     "execution_count": 12,
     "metadata": {},
     "output_type": "execute_result"
    }
   ],
   "source": [
    "df1"
   ]
  },
  {
   "cell_type": "code",
   "execution_count": 13,
   "metadata": {},
   "outputs": [
    {
     "name": "stdout",
     "output_type": "stream",
     "text": [
      "<class 'pandas.core.frame.DataFrame'>\n",
      "RangeIndex: 72894 entries, 0 to 72893\n",
      "Data columns (total 7 columns):\n",
      " #   Column          Non-Null Count  Dtype  \n",
      "---  ------          --------------  -----  \n",
      " 0   Indicator Name  72894 non-null  object \n",
      " 1   Indicator Code  72894 non-null  object \n",
      " 2   Country Name    72894 non-null  object \n",
      " 3   Country Code    72894 non-null  object \n",
      " 4   Year            72894 non-null  int64  \n",
      " 5   Value           72894 non-null  float64\n",
      " 6   Disaggregation  72894 non-null  object \n",
      "dtypes: float64(1), int64(1), object(5)\n",
      "memory usage: 3.9+ MB\n"
     ]
    }
   ],
   "source": [
    "df1.info()"
   ]
  },
  {
   "cell_type": "code",
   "execution_count": 14,
   "metadata": {},
   "outputs": [
    {
     "data": {
      "text/plain": [
       "array(['Unemployment, female (% of female labor force) (modeled ILO estimate)',\n",
       "       'Unemployment, female (% of female labor force) (national estimate)',\n",
       "       'Unemployment, male (% of male labor force) (modeled ILO estimate)',\n",
       "       'Unemployment, male (% of male labor force) (national estimate)',\n",
       "       'Unemployment, total (% of total labor force) (modeled ILO estimate)',\n",
       "       'Unemployment, total (% of total labor force) (national estimate)',\n",
       "       'Unemployment, youth female (% of female labor force ages 15-24) (modeled ILO estimate)',\n",
       "       'Unemployment, youth female (% of female labor force ages 15-24) (national estimate)',\n",
       "       'Unemployment, youth male (% of male labor force ages 15-24) (modeled ILO estimate)',\n",
       "       'Unemployment, youth male (% of male labor force ages 15-24) (national estimate)',\n",
       "       'Unemployment, youth total (% of total labor force ages 15-24) (modeled ILO estimate)',\n",
       "       'Unemployment, youth total (% of total labor force ages 15-24) (national estimate)'],\n",
       "      dtype=object)"
      ]
     },
     "execution_count": 14,
     "metadata": {},
     "output_type": "execute_result"
    }
   ],
   "source": [
    "df1['Indicator Name'].unique()"
   ]
  },
  {
   "cell_type": "markdown",
   "metadata": {},
   "source": [
    "# 2. Procesamiento de datos"
   ]
  },
  {
   "cell_type": "markdown",
   "metadata": {},
   "source": [
    "Nos quedamos con los valores únicos de desemepleo que nos interesan"
   ]
  },
  {
   "cell_type": "code",
   "execution_count": 15,
   "metadata": {},
   "outputs": [],
   "source": [
    "df_filtrado = df1[df1['Indicator Name'] == 'Unemployment, total (% of total labor force) (modeled ILO estimate)']"
   ]
  },
  {
   "cell_type": "markdown",
   "metadata": {},
   "source": [
    "Hacemos filtros y dropeamos columnas para quedarnos con los datos que nos interesan"
   ]
  },
  {
   "cell_type": "code",
   "execution_count": 16,
   "metadata": {},
   "outputs": [
    {
     "data": {
      "text/html": [
       "<div>\n",
       "<style scoped>\n",
       "    .dataframe tbody tr th:only-of-type {\n",
       "        vertical-align: middle;\n",
       "    }\n",
       "\n",
       "    .dataframe tbody tr th {\n",
       "        vertical-align: top;\n",
       "    }\n",
       "\n",
       "    .dataframe thead th {\n",
       "        text-align: right;\n",
       "    }\n",
       "</style>\n",
       "<table border=\"1\" class=\"dataframe\">\n",
       "  <thead>\n",
       "    <tr style=\"text-align: right;\">\n",
       "      <th></th>\n",
       "      <th>Country</th>\n",
       "      <th>Year_Unemployment</th>\n",
       "      <th>Unemployment</th>\n",
       "    </tr>\n",
       "  </thead>\n",
       "  <tbody>\n",
       "    <tr>\n",
       "      <th>25219</th>\n",
       "      <td>Africa Eastern and Southern</td>\n",
       "      <td>2023</td>\n",
       "      <td>7.740</td>\n",
       "    </tr>\n",
       "    <tr>\n",
       "      <th>25220</th>\n",
       "      <td>Africa Eastern and Southern</td>\n",
       "      <td>2022</td>\n",
       "      <td>7.748</td>\n",
       "    </tr>\n",
       "    <tr>\n",
       "      <th>25221</th>\n",
       "      <td>Africa Eastern and Southern</td>\n",
       "      <td>2021</td>\n",
       "      <td>8.304</td>\n",
       "    </tr>\n",
       "    <tr>\n",
       "      <th>25222</th>\n",
       "      <td>Africa Eastern and Southern</td>\n",
       "      <td>2020</td>\n",
       "      <td>7.910</td>\n",
       "    </tr>\n",
       "    <tr>\n",
       "      <th>25223</th>\n",
       "      <td>Africa Eastern and Southern</td>\n",
       "      <td>2019</td>\n",
       "      <td>7.427</td>\n",
       "    </tr>\n",
       "    <tr>\n",
       "      <th>...</th>\n",
       "      <td>...</td>\n",
       "      <td>...</td>\n",
       "      <td>...</td>\n",
       "    </tr>\n",
       "    <tr>\n",
       "      <th>32966</th>\n",
       "      <td>Zimbabwe</td>\n",
       "      <td>1995</td>\n",
       "      <td>5.557</td>\n",
       "    </tr>\n",
       "    <tr>\n",
       "      <th>32967</th>\n",
       "      <td>Zimbabwe</td>\n",
       "      <td>1994</td>\n",
       "      <td>4.960</td>\n",
       "    </tr>\n",
       "    <tr>\n",
       "      <th>32968</th>\n",
       "      <td>Zimbabwe</td>\n",
       "      <td>1993</td>\n",
       "      <td>5.007</td>\n",
       "    </tr>\n",
       "    <tr>\n",
       "      <th>32969</th>\n",
       "      <td>Zimbabwe</td>\n",
       "      <td>1992</td>\n",
       "      <td>4.929</td>\n",
       "    </tr>\n",
       "    <tr>\n",
       "      <th>32970</th>\n",
       "      <td>Zimbabwe</td>\n",
       "      <td>1991</td>\n",
       "      <td>4.750</td>\n",
       "    </tr>\n",
       "  </tbody>\n",
       "</table>\n",
       "<p>7752 rows × 3 columns</p>\n",
       "</div>"
      ],
      "text/plain": [
       "                           Country  Year_Unemployment  Unemployment\n",
       "25219  Africa Eastern and Southern               2023         7.740\n",
       "25220  Africa Eastern and Southern               2022         7.748\n",
       "25221  Africa Eastern and Southern               2021         8.304\n",
       "25222  Africa Eastern and Southern               2020         7.910\n",
       "25223  Africa Eastern and Southern               2019         7.427\n",
       "...                            ...                ...           ...\n",
       "32966                     Zimbabwe               1995         5.557\n",
       "32967                     Zimbabwe               1994         4.960\n",
       "32968                     Zimbabwe               1993         5.007\n",
       "32969                     Zimbabwe               1992         4.929\n",
       "32970                     Zimbabwe               1991         4.750\n",
       "\n",
       "[7752 rows x 3 columns]"
      ]
     },
     "execution_count": 16,
     "metadata": {},
     "output_type": "execute_result"
    }
   ],
   "source": [
    "df_filtrado = df_filtrado.drop(columns=['Indicator Code', 'Country Code', 'Disaggregation', 'Indicator Name'])\n",
    "df_filtrado = df_filtrado.rename(columns={'Value': 'Unemployment', 'Country Name': 'Country', 'Year': 'Year_Unemployment'})\n",
    "df_filtrado"
   ]
  },
  {
   "cell_type": "markdown",
   "metadata": {},
   "source": [
    "Dropeamos las filas que no pertenecen a países concretos sino a Regiones geográficas"
   ]
  },
  {
   "cell_type": "code",
   "execution_count": 17,
   "metadata": {},
   "outputs": [],
   "source": [
    "df_filtrado = df_filtrado.iloc[1584:].reset_index(drop=True)"
   ]
  },
  {
   "cell_type": "markdown",
   "metadata": {},
   "source": [
    "Guardamos el archivo limpiado para futuro merge con el de GEI"
   ]
  },
  {
   "cell_type": "code",
   "execution_count": 22,
   "metadata": {},
   "outputs": [],
   "source": [
    "df_filtrado.to_csv(r'C:\\Users\\Usuario\\Documents\\GitHub\\Final-Project\\Data\\Unemployment_filtered.csv', index=False)"
   ]
  }
 ],
 "metadata": {
  "kernelspec": {
   "display_name": "mi_entorno",
   "language": "python",
   "name": "python3"
  },
  "language_info": {
   "codemirror_mode": {
    "name": "ipython",
    "version": 3
   },
   "file_extension": ".py",
   "mimetype": "text/x-python",
   "name": "python",
   "nbconvert_exporter": "python",
   "pygments_lexer": "ipython3",
   "version": "3.11.9"
  }
 },
 "nbformat": 4,
 "nbformat_minor": 2
}
